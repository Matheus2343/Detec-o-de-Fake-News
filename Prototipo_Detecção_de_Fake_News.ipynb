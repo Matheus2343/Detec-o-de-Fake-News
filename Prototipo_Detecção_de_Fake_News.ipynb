{
  "nbformat": 4,
  "nbformat_minor": 0,
  "metadata": {
    "colab": {
      "provenance": [],
      "authorship_tag": "ABX9TyM2nho7mvOkowfjJOh4C4iK",
      "include_colab_link": true
    },
    "kernelspec": {
      "name": "python3",
      "display_name": "Python 3"
    },
    "language_info": {
      "name": "python"
    }
  },
  "cells": [
    {
      "cell_type": "markdown",
      "metadata": {
        "id": "view-in-github",
        "colab_type": "text"
      },
      "source": [
        "<a href=\"https://colab.research.google.com/github/Matheus2343/Detec-o-de-Fake-News/blob/main/Prototipo_Detec%C3%A7%C3%A3o_de_Fake_News.ipynb\" target=\"_parent\"><img src=\"https://colab.research.google.com/assets/colab-badge.svg\" alt=\"Open In Colab\"/></a>"
      ]
    },
    {
      "cell_type": "code",
      "execution_count": 6,
      "metadata": {
        "id": "1_JmePbA6gYW"
      },
      "outputs": [],
      "source": [
        "!pip install -q google-genai"
      ]
    },
    {
      "cell_type": "code",
      "source": [
        "!pip install -q google-search-results"
      ],
      "metadata": {
        "id": "qtSZsatS6pmA"
      },
      "execution_count": 5,
      "outputs": []
    },
    {
      "cell_type": "code",
      "source": [
        "!pip install -q google-generativeai"
      ],
      "metadata": {
        "id": "ZxQ55OogH6rH"
      },
      "execution_count": 32,
      "outputs": []
    },
    {
      "cell_type": "code",
      "source": [
        "import os\n",
        "from google.colab import userdata\n",
        "\n",
        "os.environ[\"GOOGLE_API_KEY\"] = userdata.get('GOOGLE_API_KEY')"
      ],
      "metadata": {
        "id": "jUoEwDgT6y9G"
      },
      "execution_count": 15,
      "outputs": []
    },
    {
      "cell_type": "code",
      "source": [
        "import google.generativeai as genai\n",
        "from datetime import date\n",
        "from googleapiclient.discovery import build\n",
        "from google.oauth2.service_account import Credentials\n"
      ],
      "metadata": {
        "id": "pP7QQD5SQseH"
      },
      "execution_count": 60,
      "outputs": []
    },
    {
      "cell_type": "code",
      "source": [
        "def executar_pesquisa_google(query, num_resultados=3):\n",
        "    \"\"\"Executa uma pesquisa no Google e retorna os resultados.\"\"\"\n",
        "    try:\n",
        "        service = build(\"customsearch\", \"v1\", developerKey=GOOGLE_SEARCH_API_KEY)\n",
        "        response = service.cse().list(q=query, cx=GOOGLE_CSE_ID, num=num_resultados).execute()\n",
        "        return response.get(\"items\", [])\n",
        "    except Exception as e:\n",
        "        print(f\"Erro ao executar a pesquisa no Google: {e}\")\n",
        "        return []"
      ],
      "metadata": {
        "id": "Eihz4VX4Qzhv"
      },
      "execution_count": 63,
      "outputs": []
    },
    {
      "cell_type": "code",
      "source": [
        "def verificar_fake_news(mensagem):\n",
        "    \"\"\"\n",
        "    Tenta detectar se uma mensagem é fake news usando o Google Gemini 2.0 Flash e a Pesquisa Google.\n",
        "Identificar potenciais sinais de desinformação ou notícias falsas com base em evidências encontradas na pesquisa.\n",
        "Fornecer um relatório conciso sobre os sinais identificados e o grau de confiança na avaliação.\n",
        "    \"\"\"\n",
        "    try:\n",
        "        model = genai.GenerativeModel('gemini-2.0-flash')\n",
        "\n",
        "        query_gemini = f\"Verifique a veracidade da seguinte afirmação: '{mensagem}'. Procure por relatos de agências de notícias confiáveis, sites de fact-checking e desmentidos.\"\n",
        "\n",
        "        response_gemini = model.generate_content(query_gemini)\n",
        "        response_text_gemini = response_gemini.text.lower()\n",
        "\n",
        "        print(f\"\\nResposta do Gemini Flash:\\n{response_text_gemini}\\n\")\n",
        "\n",
        "        query_google = f\"verificar se é verdade: {mensagem}\"\n",
        "        resultados_google = executar_pesquisa_google(query_google)\n",
        "\n",
        "        print(\"\\nResultados da Pesquisa Google:\")\n",
        "        for i, resultado in enumerate(resultados_google):\n",
        "            print(f\"[{i+1}] Título: {resultado['title']}\")\n",
        "            print(f\"    Link: {resultado['link']}\")\n",
        "            print(f\"    Snippet: {resultado['snippet']}\")\n",
        "        print(\"-\" * 30)\n",
        "\n",
        "        if \"notícia falsa\" in response_text_gemini or \"alegação falsa\" in response_text_gemini or \"desmentido\" in response_text_gemini or \"fake news\" in response_text_gemini:\n",
        "            return \"⚠️ ALERTA: A mensagem pode ser fake news com base nas informações encontradas pelo Gemini.\"\n",
        "        elif any(\"fact-checking\" in r.get('snippet', '').lower() or \"checagem de fatos\" in r.get('snippet', '').lower() for r in resultados_google):\n",
        "            return \"🔎 Verificações de fatos encontradas nos resultados da pesquisa. Recomenda-se analisar os links.\"\n",
        "        elif \"verdadeira\" in response_text_gemini or \"confirmado\" in response_text_gemini or \"fato\" in response_text_gemini:\n",
        "            return \"✅ A mensagem pode ser verdadeira com base nas informações encontradas pelo Gemini.\"\n",
        "        elif not resultados_google:\n",
        "            return \"🤔 O Gemini não encontrou informações conclusivas e a Pesquisa Google não retornou resultados relevantes.\"\n",
        "        else:\n",
        "            return \"❓ A resposta do Gemini não forneceu informações claras e a Pesquisa Google retornou resultados que precisam ser analisados com cautela.\"\n",
        "\n",
        "    except Exception as e:\n",
        "        print(f\"Ocorreu um erro ao verificar a mensagem: {e}\")\n",
        "        return \"❌ Ocorreu um erro ao verificar a mensagem.\""
      ],
      "metadata": {
        "id": "XsCMwilkOM6q"
      },
      "execution_count": 67,
      "outputs": []
    },
    {
      "cell_type": "code",
      "source": [
        "if __name__ == \"__main__\":\n",
        "    print(\"🤖 Detector de Fake News (Protótipo com Gemini 2.0 Flash) 🤖\")\n",
        "    mensagem_usuario = input(\"Digite a mensagem que você quer verificar: \")\n",
        "    if mensagem_usuario:\n",
        "        resultado = verificar_fake_news(mensagem_usuario)\n",
        "        print(f\"\\nResultado da verificação: {resultado}\")\n",
        "    else:\n",
        "        print(\"Você não digitou nenhuma mensagem.\")"
      ],
      "metadata": {
        "colab": {
          "base_uri": "https://localhost:8080/"
        },
        "id": "R-fdSb_RRfye",
        "outputId": "7525a318-35fe-4c00-d78a-20e44af98b0d"
      },
      "execution_count": 68,
      "outputs": [
        {
          "output_type": "stream",
          "name": "stdout",
          "text": [
            "🤖 Detector de Fake News (Protótipo com Gemini 2.0 Flash) 🤖\n",
            "Digite a mensagem que você quer verificar: \n",
            "Você não digitou nenhuma mensagem.\n"
          ]
        }
      ]
    }
  ]
}